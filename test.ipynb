{
 "cells": [
  {
   "cell_type": "code",
   "execution_count": 1,
   "metadata": {},
   "outputs": [
    {
     "name": "stderr",
     "output_type": "stream",
     "text": [
      "/home/ubuntu/.venv/lib/python3.12/site-packages/tqdm/auto.py:21: TqdmWarning: IProgress not found. Please update jupyter and ipywidgets. See https://ipywidgets.readthedocs.io/en/stable/user_install.html\n",
      "  from .autonotebook import tqdm as notebook_tqdm\n"
     ]
    }
   ],
   "source": [
    "from dataloader import GKDDataset, create_gkd_dataloaders\n",
    "from transformers import AutoTokenizer\n",
    "from trl.trainer.utils import DataCollatorForChatML\n",
    "import torch\n",
    "from typing import Any"
   ]
  },
  {
   "cell_type": "code",
   "execution_count": 5,
   "metadata": {},
   "outputs": [
    {
     "name": "stdout",
     "output_type": "stream",
     "text": [
      "Creating a dataloader on rank:  0 1\n",
      "tensor([[151644,   8948,    198,  ...,      0, 151645,    198]])\n",
      "tensor([[  -100,   -100,   -100,  ...,      0, 151645,    198]])\n"
     ]
    }
   ],
   "source": [
    "tokenizer = AutoTokenizer.from_pretrained(\"Qwen/Qwen2-72B-Instruct\")\n",
    "dataloaders = create_gkd_dataloaders(\n",
    "    tokenizer=tokenizer,\n",
    "    dataset_name=\"BAAI/Infinity-Instruct\",\n",
    "    max_samples=10,\n",
    "    batch_size=1,\n",
    "    num_workers=0,\n",
    "    rank=0,\n",
    "    world_size=1,\n",
    "    max_length=2048\n",
    ")\n",
    "\n",
    "# Test the dataloader\n",
    "for batch in dataloaders[\"train\"]:\n",
    "    print(batch[\"input_ids\"])\n",
    "    print(batch[\"labels\"])\n",
    "    \n",
    "    break\n",
    "    # # Decode a sample to verify formatting\n",
    "    # decoded = tokenizer.decode(batch[\"input_ids\"][0])\n",
    "    # print(\"\\nSample conversation:\")\n",
    "    # print(decoded)\n",
    "    # break"
   ]
  },
  {
   "cell_type": "code",
   "execution_count": 12,
   "metadata": {},
   "outputs": [
    {
     "ename": "AttributeError",
     "evalue": "'str' object has no attribute 'get'",
     "output_type": "error",
     "traceback": [
      "\u001b[0;31m---------------------------------------------------------------------------\u001b[0m",
      "\u001b[0;31mAttributeError\u001b[0m                            Traceback (most recent call last)",
      "Cell \u001b[0;32mIn[12], line 5\u001b[0m\n\u001b[1;32m      1\u001b[0m ds \u001b[38;5;241m=\u001b[39m DataCollatorForChatML(tokenizer, max_length\u001b[38;5;241m=\u001b[39m\u001b[38;5;241m2048\u001b[39m)\n\u001b[1;32m      3\u001b[0m \u001b[38;5;28;01mfor\u001b[39;00m batch_idx, batch \u001b[38;5;129;01min\u001b[39;00m \u001b[38;5;28menumerate\u001b[39m(train_loader):\n\u001b[0;32m----> 5\u001b[0m     \u001b[38;5;28mprint\u001b[39m(\u001b[43mds\u001b[49m\u001b[43m(\u001b[49m\u001b[43mbatch\u001b[49m\u001b[43m)\u001b[49m)\n\u001b[1;32m      6\u001b[0m     \u001b[38;5;28;01mbreak\u001b[39;00m\n",
      "File \u001b[0;32m~/.venv/lib/python3.12/site-packages/trl/trainer/utils.py:274\u001b[0m, in \u001b[0;36mDataCollatorForChatML.__call__\u001b[0;34m(self, examples)\u001b[0m\n\u001b[1;32m    271\u001b[0m labels \u001b[38;5;241m=\u001b[39m []\n\u001b[1;32m    273\u001b[0m \u001b[38;5;28;01mfor\u001b[39;00m example \u001b[38;5;129;01min\u001b[39;00m examples:\n\u001b[0;32m--> 274\u001b[0m     formatted_prompt \u001b[38;5;241m=\u001b[39m \u001b[43mexample\u001b[49m\u001b[38;5;241;43m.\u001b[39;49m\u001b[43mget\u001b[49m(\u001b[38;5;28mself\u001b[39m\u001b[38;5;241m.\u001b[39mprompt_key, \u001b[38;5;28;01mNone\u001b[39;00m)\n\u001b[1;32m    275\u001b[0m     \u001b[38;5;28;01mif\u001b[39;00m formatted_prompt \u001b[38;5;129;01mis\u001b[39;00m \u001b[38;5;28;01mNone\u001b[39;00m:\n\u001b[1;32m    276\u001b[0m         prompt \u001b[38;5;241m=\u001b[39m example[\u001b[38;5;28mself\u001b[39m\u001b[38;5;241m.\u001b[39mmessages_key][:\u001b[38;5;241m-\u001b[39m\u001b[38;5;241m1\u001b[39m]\n",
      "\u001b[0;31mAttributeError\u001b[0m: 'str' object has no attribute 'get'"
     ]
    }
   ],
   "source": [
    "ds = DataCollatorForChatML(tokenizer, max_length=2048)\n",
    "\n",
    "for batch_idx, batch in enumerate(train_loader):\n",
    "    \n",
    "    print(ds(batch))\n",
    "    break\n"
   ]
  },
  {
   "cell_type": "code",
   "execution_count": null,
   "metadata": {},
   "outputs": [],
   "source": []
  }
 ],
 "metadata": {
  "kernelspec": {
   "display_name": ".venv",
   "language": "python",
   "name": "python3"
  },
  "language_info": {
   "codemirror_mode": {
    "name": "ipython",
    "version": 3
   },
   "file_extension": ".py",
   "mimetype": "text/x-python",
   "name": "python",
   "nbconvert_exporter": "python",
   "pygments_lexer": "ipython3",
   "version": "3.12.7"
  }
 },
 "nbformat": 4,
 "nbformat_minor": 2
}
